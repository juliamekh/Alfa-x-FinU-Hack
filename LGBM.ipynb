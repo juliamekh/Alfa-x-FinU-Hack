{
  "cells": [
    {
      "cell_type": "markdown",
      "source": [
        "## Краткий вывод о проделанной работе\n",
        "\n",
        "### Подготовка данных\n",
        "1. **Загрузка данных**: Данные были загружены из файлов `train_data.pqt` и `test_data.pqt`, содержащих соответственно 600,000 и 290,120 строк.\n",
        "2. **Заполнение пропусков**: Были обработаны пропущенные значения в колонке `start_cluster` тестового набора данных методом заполнения предыдущими значениями.\n",
        "3. **Определение кластеров**: Создан словарь `clusters` для предсказания конечных кластеров на основе начальных.\n",
        "4. **Добавление признаков**: Добавлены новые столбцы `filled_cols` и `end_cluster_1` в тренировочный и тестовый наборы данных.\n",
        "\n",
        "### Обучение модели\n",
        "1. **Категориальные признаки**: Определены и преобразованы категориальные признаки в тип 'category'.\n",
        "2. **Создание выборок**: Данные были разделены на тренировочную и валидационную выборки в соотношении 80/20.\n",
        "3. **Обучение модели**: Обучена модель `LGBMClassifier` с заданными гиперпараметрами (learning_rate, max_depth, lambda_l2 и др.).\n",
        "4. **Оценка модели**: Взвешенная метрика ROC AUC на валидационной выборке составила 0.943.\n",
        "\n",
        "### Предсказание на тестовой выборке\n",
        "1. **Обучение на всей выборке**: Модель была переобучена на всех тренировочных данных.\n",
        "2. **Прогнозирование**: Предсказаны вероятности классов для тестовой выборки и сохранены в файл `lgbm_result.csv`.\n",
        "\n",
        "### Подбор гиперпараметров\n",
        "1. **Оптимизация гиперпараметров**: Проведен RandomizedSearchCV для поиска лучших гиперпараметров модели.\n",
        "2. **Обучение с лучшими параметрами**: Модель с лучшими параметрами была обучена и проверена на валидационной выборке.\n",
        "\n",
        "### Итоги\n",
        "- **Качество модели**: Метрика ROC AUC на валидационной выборке показывает высокое качество модели.\n",
        "- **Оптимизация**: Подбор гиперпараметров помог улучшить качество модели.\n",
        "\n",
        "В результате была получена модель, которая эффективно прогнозирует вероятности конечных кластеров, что подтверждается высокими значениями метрики на валидационной выборке."
      ],
      "metadata": {
        "id": "9bQhsZg_Efep"
      }
    },
    {
      "cell_type": "markdown",
      "metadata": {
        "id": "KZWwNM8qUO37"
      },
      "source": [
        "# Подготовка данных"
      ]
    },
    {
      "cell_type": "code",
      "execution_count": null,
      "metadata": {
        "id": "MnCpf102xRZq"
      },
      "outputs": [],
      "source": [
        "import numpy as np\n",
        "import pandas as pd\n",
        "from lightgbm import LGBMClassifier\n",
        "from sklearn.metrics import roc_auc_score\n",
        "from sklearn.model_selection import train_test_split\n",
        "\n",
        "import seaborn as sns\n",
        "import matplotlib.pyplot as plt\n",
        "plt.rcParams['font.size'] = 10\n",
        "\n",
        "import warnings\n",
        "warnings.filterwarnings('ignore')"
      ]
    },
    {
      "cell_type": "code",
      "execution_count": null,
      "metadata": {
        "colab": {
          "base_uri": "https://localhost:8080/"
        },
        "id": "BXQWoFvux_4f",
        "outputId": "ac97cf05-4a1f-4e1a-9c14-f643e748968a"
      },
      "outputs": [
        {
          "name": "stdout",
          "output_type": "stream",
          "text": [
            "geopandas==0.13.2\n",
            "lightgbm==4.1.0\n",
            "matplotlib==3.7.1\n",
            "matplotlib-inline==0.1.7\n",
            "matplotlib-venn==0.11.10\n",
            "numpy==1.25.2\n",
            "pandas==2.0.3\n",
            "pandas-datareader==0.10.0\n",
            "pandas-gbq==0.19.2\n",
            "pandas-stubs==2.0.3.230814\n",
            "scikit-learn==1.2.2\n",
            "seaborn==0.13.1\n",
            "sklearn-pandas==2.2.0\n"
          ]
        }
      ],
      "source": [
        "!pip freeze | grep \"numpy\\|pandas\\|lightgbm\\|scikit-learn\\|seaborn\\|matplotlib\""
      ]
    },
    {
      "cell_type": "code",
      "execution_count": null,
      "metadata": {
        "colab": {
          "base_uri": "https://localhost:8080/"
        },
        "collapsed": true,
        "id": "9--mZQ_KyE0J",
        "outputId": "e39791c2-716f-4db6-8c98-2c758fcf67c1"
      },
      "outputs": [
        {
          "name": "stdout",
          "output_type": "stream",
          "text": [
            "Mounted at /content/drive\n"
          ]
        }
      ],
      "source": [
        "from google.colab import drive\n",
        "drive.mount('/content/drive')\n",
        "\n",
        "FILE_PATH = '/content/drive/MyDrive/ALFA_FinU/data/'"
      ]
    },
    {
      "cell_type": "code",
      "execution_count": null,
      "metadata": {
        "colab": {
          "base_uri": "https://localhost:8080/"
        },
        "id": "nVXA1yAPyM9P",
        "outputId": "c806a00d-c4da-4cdb-f3b0-e0635fd28680"
      },
      "outputs": [
        {
          "data": {
            "text/plain": [
              "((600000, 93), (290120, 92))"
            ]
          },
          "execution_count": 4,
          "metadata": {},
          "output_type": "execute_result"
        }
      ],
      "source": [
        "train_df = pd.read_parquet(FILE_PATH+'train_data.pqt')\n",
        "test_df = pd.read_parquet(FILE_PATH+'test_data.pqt')\n",
        "train_df.shape, test_df.shape"
      ]
    },
    {
      "cell_type": "code",
      "execution_count": null,
      "metadata": {
        "id": "sk9rLDCg17ns"
      },
      "outputs": [],
      "source": [
        "# Подсчет числа заполненных значений в каждой строке\n",
        "train_df['filled_cols'] = train_df.drop(['id', 'date', 'start_cluster', 'end_cluster'], axis=1).count(axis=1)\n",
        "test_df['filled_cols'] = test_df.drop(['id', 'date', 'start_cluster'], axis=1).count(axis=1)"
      ]
    },
    {
      "cell_type": "markdown",
      "metadata": {
        "id": "kr5S811JVnrS"
      },
      "source": [
        "Определение кластеров: Создается словарь clusters, который содержит соответствие начальных и конечных кластеров."
      ]
    },
    {
      "cell_type": "code",
      "execution_count": null,
      "metadata": {
        "id": "IHuT1hVm2ArX"
      },
      "outputs": [],
      "source": [
        "# Наиболее вероятный конечный кластер для заданного начального кластера\n",
        "\n",
        "clusters = {\n",
        " '{other}': '{other}',\n",
        " '{}': '{}',\n",
        " '{α, β}': '{α, β}',\n",
        " '{α, γ}': '{α, γ}',\n",
        " '{α, δ}': '{α}',\n",
        " '{α, ε, η}': '{α, ε, η}',\n",
        " '{α, ε, θ}': '{α, ε, θ}',\n",
        " '{α, ε, ψ}': '{α, ε, ψ}',\n",
        " '{α, ε}': '{α, ε}',\n",
        " '{α, η}': '{α, η}',\n",
        " '{α, θ}': '{α, θ}',\n",
        " '{α, λ}': '{α, λ}',\n",
        " '{α, μ}': '{α, μ}',\n",
        " '{α, π}': '{other}',\n",
        " '{α, ψ}': '{α, ψ}',\n",
        " '{α}': '{α}',\n",
        " '{λ}': '{α, λ}'\n",
        " }"
      ]
    },
    {
      "cell_type": "markdown",
      "metadata": {
        "id": "bxVaTYcfVzHg"
      },
      "source": [
        "Заполнение пропусков в кластерах: Пропущенные значения в столбце start_cluster тестового набора данных заполняются предыдущими значениями."
      ]
    },
    {
      "cell_type": "code",
      "execution_count": null,
      "metadata": {
        "id": "w-PR3Ww72FTX"
      },
      "outputs": [],
      "source": [
        "# Заполнение начального кластера в month_6 значениями из month_5\n",
        "\n",
        "test_df['start_cluster'].fillna(method='ffill', inplace=True)"
      ]
    },
    {
      "cell_type": "markdown",
      "metadata": {
        "id": "2jdCeE5cV3n4"
      },
      "source": [
        "Определение конечных кластеров: Добавляется новый столбец end_cluster_1 в обучающий и тестовый наборы данных, содержащий конечные кластеры для каждого начального кластера на основе словаря clusters"
      ]
    },
    {
      "cell_type": "code",
      "execution_count": null,
      "metadata": {
        "id": "EFFjL7-52IAk"
      },
      "outputs": [],
      "source": [
        "# Предсказание конечного кластера по матрице вероятностей\n",
        "\n",
        "train_df['end_cluster_1'] = train_df['start_cluster'].map(clusters)\n",
        "test_df['end_cluster_1'] = test_df['start_cluster'].map(clusters)"
      ]
    },
    {
      "cell_type": "markdown",
      "metadata": {
        "id": "13Pw_uRp2Jej"
      },
      "source": [
        "# LGBM модель"
      ]
    },
    {
      "cell_type": "markdown",
      "metadata": {
        "id": "cc3LGuCjWJN6"
      },
      "source": [
        "Определение категориальных признаков: Создается список cat_cols, содержащий названия категориальных признаков."
      ]
    },
    {
      "cell_type": "code",
      "execution_count": null,
      "metadata": {
        "id": "0HNAJ8N-2LgY"
      },
      "outputs": [],
      "source": [
        "cat_cols = [\n",
        "    \"channel_code\",\n",
        "    \"city\",\n",
        "    \"city_type\",\n",
        "    \"okved\",\n",
        "    \"segment\",\n",
        "    \"start_cluster\",\n",
        "    \"index_city_code\",\n",
        "    \"ogrn_month\",\n",
        "    \"ogrn_year\",\n",
        "    'end_cluster_1'\n",
        "]"
      ]
    },
    {
      "cell_type": "markdown",
      "metadata": {
        "id": "9hed7ueqHDRI"
      },
      "source": [
        "Преобразование категориальных признаков в тип 'category'"
      ]
    },
    {
      "cell_type": "code",
      "execution_count": null,
      "metadata": {
        "id": "ULpFGsX72PFa"
      },
      "outputs": [],
      "source": [
        "train_df[cat_cols] = train_df[cat_cols].astype(\"category\")\n",
        "test_df[cat_cols] = test_df[cat_cols].astype(\"category\")"
      ]
    },
    {
      "cell_type": "markdown",
      "metadata": {
        "id": "BzCcBOJbJlta"
      },
      "source": [
        "Создаем выборки для валидации и обучения. Из обучающего набора данных удаляются столбцы \"id\", \"date\" и \"end_cluster\", которые не являются признаками для обучения модели."
      ]
    },
    {
      "cell_type": "code",
      "execution_count": null,
      "metadata": {
        "id": "DvaVavFL2YeT"
      },
      "outputs": [],
      "source": [
        "X = train_df.drop([\"id\", \"date\", \"end_cluster\"], axis=1)\n",
        "y = train_df[\"end_cluster\"]"
      ]
    },
    {
      "cell_type": "markdown",
      "metadata": {
        "id": "0oihN5Tt2T8_"
      },
      "source": [
        "Выбираются наиболее значимые признаки из списка top_features и создается выборка X, содержащая только эти признаки, а также вектор целевых значений y. Далее данные разделяются на обучающую и валидационную выборки в соотношении 80/20 с помощью функции train_test_split.\n"
      ]
    },
    {
      "cell_type": "code",
      "execution_count": null,
      "metadata": {
        "id": "YwH3sg5S2RvV"
      },
      "outputs": [],
      "source": [
        "# список фичей с наибольшей значимостью\n",
        "\n",
        "top_features = ['filled_cols',\n",
        "                'end_cluster_1',\n",
        "    'start_cluster', 'okved', 'index_city_code', 'channel_code', 'city', 'balance_amt_min', 'segment', 'balance_amt_max', 'ogrn_days_end_quarter', 'sum_of_paym_1y', 'ogrn_days_end_month', 'cnt_a_oper_1m', 'min_founderpres',\n",
        " 'ogrn_exist_months', 'ogrn_month', 'ft_registration_date', 'ogrn_year', 'sum_of_paym_6m', 'max_founderpres', 'sum_deb_e_oper_3m', 'balance_amt_avg', 'sum_of_paym_2m', 'sum_cred_e_oper_3m', 'cnt_days_deb_e_oper_3m',\n",
        " 'balance_amt_day_avg', 'cnt_cred_e_oper_3m', 'sum_cred_e_oper_1m', 'sum_cred_h_oper_3m', 'cnt_days_cred_e_oper_3m',\n",
        " 'cnt_deb_e_oper_3m', 'sum_deb_h_oper_3m', 'cnt_a_oper_3m', 'sum_deb_f_oper_3m', 'cnt_cred_e_oper_1m', 'sum_deb_g_oper_3m', 'sum_deb_e_oper_1m',\n",
        " 'cnt_cred_h_oper_3m', 'cnt_deb_h_oper_3m', 'sum_deb_d_oper_3m', 'cnt_deb_e_oper_1m', 'sum_deb_f_oper_1m', 'sum_deb_h_oper_1m',\n",
        " 'cnt_days_cred_e_oper_1m', 'cnt_deb_g_oper_3m', 'cnt_days_cred_h_oper_3m', 'sum_cred_g_oper_3m', 'sum_c_oper_3m',\n",
        " 'sum_a_oper_3m', 'sum_cred_h_oper_1m', 'city_type', 'cnt_deb_d_oper_3m', 'sum_deb_d_oper_1m', 'cnt_days_deb_e_oper_1m', 'cnt_deb_f_oper_3m', 'sum_deb_g_oper_1m', 'cnt_days_deb_h_oper_3m', 'cnt_days_deb_f_oper_3m',\n",
        " 'cnt_c_oper_3m', 'cnt_days_deb_g_oper_3m', 'cnt_b_oper_1m', 'cnt_days_deb_h_oper_1m', 'cnt_days_cred_h_oper_1m',\n",
        " 'cnt_deb_f_oper_1m', 'sum_cred_f_oper_3m', 'cnt_days_cred_g_oper_1m', 'cnt_cred_g_oper_3m', 'sum_cred_d_oper_3m', 'sum_b_oper_3m', 'sum_c_oper_1m', 'sum_a_oper_1m', 'cnt_deb_g_oper_1m', 'cnt_deb_h_oper_1m',\n",
        "                'cnt_b_oper_3m', 'cnt_days_cred_f_oper_1m', 'cnt_c_oper_1m', 'cnt_days_deb_g_oper_1m',\n",
        "                'cnt_days_deb_f_oper_1m', 'sum_cred_g_oper_1m', 'cnt_cred_h_oper_1m', 'cnt_cred_d_oper_1m', 'sum_b_oper_1m', 'cnt_deb_d_oper_1m', 'cnt_cred_f_oper_3m',\n",
        " 'cnt_cred_d_oper_3m', 'sum_cred_f_oper_1m', 'cnt_cred_f_oper_1m', 'sum_cred_d_oper_1m', 'cnt_cred_g_oper_1m', 'cnt_days_cred_g_oper_3m', 'cnt_days_cred_f_oper_3m']\n",
        "\n",
        "selected_features = top_features[:53]"
      ]
    },
    {
      "cell_type": "code",
      "execution_count": null,
      "metadata": {
        "id": "aMqzHOJ42ZaO"
      },
      "outputs": [],
      "source": [
        "x_train, x_val, y_train, y_val = train_test_split(X[selected_features], y,test_size=0.2,random_state=42)"
      ]
    },
    {
      "cell_type": "markdown",
      "metadata": {
        "id": "QXd93FJ_HPGD"
      },
      "source": [
        "# Обучение модели LGBMClassifier"
      ]
    },
    {
      "cell_type": "code",
      "execution_count": null,
      "metadata": {
        "colab": {
          "base_uri": "https://localhost:8080/",
          "height": 111
        },
        "id": "GKp-9FiO2bXF",
        "outputId": "dbf57a3b-18a0-4b97-ff49-ae321423522b"
      },
      "outputs": [
        {
          "data": {
            "text/html": [
              "<style>#sk-container-id-1 {color: black;background-color: white;}#sk-container-id-1 pre{padding: 0;}#sk-container-id-1 div.sk-toggleable {background-color: white;}#sk-container-id-1 label.sk-toggleable__label {cursor: pointer;display: block;width: 100%;margin-bottom: 0;padding: 0.3em;box-sizing: border-box;text-align: center;}#sk-container-id-1 label.sk-toggleable__label-arrow:before {content: \"▸\";float: left;margin-right: 0.25em;color: #696969;}#sk-container-id-1 label.sk-toggleable__label-arrow:hover:before {color: black;}#sk-container-id-1 div.sk-estimator:hover label.sk-toggleable__label-arrow:before {color: black;}#sk-container-id-1 div.sk-toggleable__content {max-height: 0;max-width: 0;overflow: hidden;text-align: left;background-color: #f0f8ff;}#sk-container-id-1 div.sk-toggleable__content pre {margin: 0.2em;color: black;border-radius: 0.25em;background-color: #f0f8ff;}#sk-container-id-1 input.sk-toggleable__control:checked~div.sk-toggleable__content {max-height: 200px;max-width: 100%;overflow: auto;}#sk-container-id-1 input.sk-toggleable__control:checked~label.sk-toggleable__label-arrow:before {content: \"▾\";}#sk-container-id-1 div.sk-estimator input.sk-toggleable__control:checked~label.sk-toggleable__label {background-color: #d4ebff;}#sk-container-id-1 div.sk-label input.sk-toggleable__control:checked~label.sk-toggleable__label {background-color: #d4ebff;}#sk-container-id-1 input.sk-hidden--visually {border: 0;clip: rect(1px 1px 1px 1px);clip: rect(1px, 1px, 1px, 1px);height: 1px;margin: -1px;overflow: hidden;padding: 0;position: absolute;width: 1px;}#sk-container-id-1 div.sk-estimator {font-family: monospace;background-color: #f0f8ff;border: 1px dotted black;border-radius: 0.25em;box-sizing: border-box;margin-bottom: 0.5em;}#sk-container-id-1 div.sk-estimator:hover {background-color: #d4ebff;}#sk-container-id-1 div.sk-parallel-item::after {content: \"\";width: 100%;border-bottom: 1px solid gray;flex-grow: 1;}#sk-container-id-1 div.sk-label:hover label.sk-toggleable__label {background-color: #d4ebff;}#sk-container-id-1 div.sk-serial::before {content: \"\";position: absolute;border-left: 1px solid gray;box-sizing: border-box;top: 0;bottom: 0;left: 50%;z-index: 0;}#sk-container-id-1 div.sk-serial {display: flex;flex-direction: column;align-items: center;background-color: white;padding-right: 0.2em;padding-left: 0.2em;position: relative;}#sk-container-id-1 div.sk-item {position: relative;z-index: 1;}#sk-container-id-1 div.sk-parallel {display: flex;align-items: stretch;justify-content: center;background-color: white;position: relative;}#sk-container-id-1 div.sk-item::before, #sk-container-id-1 div.sk-parallel-item::before {content: \"\";position: absolute;border-left: 1px solid gray;box-sizing: border-box;top: 0;bottom: 0;left: 50%;z-index: -1;}#sk-container-id-1 div.sk-parallel-item {display: flex;flex-direction: column;z-index: 1;position: relative;background-color: white;}#sk-container-id-1 div.sk-parallel-item:first-child::after {align-self: flex-end;width: 50%;}#sk-container-id-1 div.sk-parallel-item:last-child::after {align-self: flex-start;width: 50%;}#sk-container-id-1 div.sk-parallel-item:only-child::after {width: 0;}#sk-container-id-1 div.sk-dashed-wrapped {border: 1px dashed gray;margin: 0 0.4em 0.5em 0.4em;box-sizing: border-box;padding-bottom: 0.4em;background-color: white;}#sk-container-id-1 div.sk-label label {font-family: monospace;font-weight: bold;display: inline-block;line-height: 1.2em;}#sk-container-id-1 div.sk-label-container {text-align: center;}#sk-container-id-1 div.sk-container {/* jupyter's `normalize.less` sets `[hidden] { display: none; }` but bootstrap.min.css set `[hidden] { display: none !important; }` so we also need the `!important` here to be able to override the default hidden behavior on the sphinx rendered scikit-learn.org. See: https://github.com/scikit-learn/scikit-learn/issues/21755 */display: inline-block !important;position: relative;}#sk-container-id-1 div.sk-text-repr-fallback {display: none;}</style><div id=\"sk-container-id-1\" class=\"sk-top-container\"><div class=\"sk-text-repr-fallback\"><pre>LGBMClassifier(lambda_l2=3, learning_rate=0.01, max_depth=10, n_estimators=500,\n",
              "               n_jobs=-1, random_state=42, verbosity=-1)</pre><b>In a Jupyter environment, please rerun this cell to show the HTML representation or trust the notebook. <br />On GitHub, the HTML representation is unable to render, please try loading this page with nbviewer.org.</b></div><div class=\"sk-container\" hidden><div class=\"sk-item\"><div class=\"sk-estimator sk-toggleable\"><input class=\"sk-toggleable__control sk-hidden--visually\" id=\"sk-estimator-id-1\" type=\"checkbox\" checked><label for=\"sk-estimator-id-1\" class=\"sk-toggleable__label sk-toggleable__label-arrow\">LGBMClassifier</label><div class=\"sk-toggleable__content\"><pre>LGBMClassifier(lambda_l2=3, learning_rate=0.01, max_depth=10, n_estimators=500,\n",
              "               n_jobs=-1, random_state=42, verbosity=-1)</pre></div></div></div></div></div>"
            ],
            "text/plain": [
              "LGBMClassifier(lambda_l2=3, learning_rate=0.01, max_depth=10, n_estimators=500,\n",
              "               n_jobs=-1, random_state=42, verbosity=-1)"
            ]
          },
          "execution_count": 14,
          "metadata": {},
          "output_type": "execute_result"
        }
      ],
      "source": [
        "model = LGBMClassifier(verbosity=-1, #вывод сообщений отключен\n",
        "                       random_state=42, #  начальное значение для генератора псевдослучайных чисел\n",
        "                       n_jobs=-1,# использование всех доступных ядер\n",
        "                       learning_rate = 0.01,# cкорость обучения\n",
        "                       max_depth=10, # максимальная глубина деревьев решений\n",
        "                       lambda_l2 = 3,# Коэффициент регуляризации L2 (гребневая регуляризация)\n",
        "                       n_estimators = 500) #  Количество деревьев решений\n",
        "model.fit(x_train, y_train)"
      ]
    },
    {
      "cell_type": "markdown",
      "metadata": {
        "id": "VhRTIYsE2r2Y"
      },
      "source": [
        "**Функция для взвешенной метрики ROC AUC**"
      ]
    },
    {
      "cell_type": "markdown",
      "metadata": {
        "id": "f4HsUZmaX6XF"
      },
      "source": [
        "Эта функция вычисляет взвешенную метрику ROC AUC для многоклассовой задачи. Она принимает на вход истинные значения y_true, предсказанные вероятности y_pred, список меток классов labels и словарь весов weights_dict. Сначала функция вычисляет нормированные веса для каждого класса, затем вычисляет ROC AUC для каждого класса с помощью функции roc_auc_score, и, наконец, возвращает их взвешенную сумму."
      ]
    },
    {
      "cell_type": "code",
      "execution_count": null,
      "metadata": {
        "id": "otZnY5T52dev"
      },
      "outputs": [],
      "source": [
        "def weighted_roc_auc(y_true, y_pred, labels, weights_dict):\n",
        "    unnorm_weights = np.array([weights_dict[label] for label in labels])\n",
        "    weights = unnorm_weights / unnorm_weights.sum()\n",
        "    classes_roc_auc = roc_auc_score(y_true, y_pred, labels=labels,\n",
        "                                    multi_class=\"ovr\", average=None)\n",
        "    return sum(weights * classes_roc_auc)"
      ]
    },
    {
      "cell_type": "markdown",
      "metadata": {
        "id": "1K8ShngMYBcf"
      },
      "source": [
        " cluster_weights.xlsx, содержит веса для каждого кластера. Веса преобразуются в словарь weights_dict, где ключами являются метки кластеров, а значениями - соответствующие веса."
      ]
    },
    {
      "cell_type": "code",
      "execution_count": null,
      "metadata": {
        "id": "7_7BkifV2e_J"
      },
      "outputs": [],
      "source": [
        "cluster_weights = pd.read_excel(FILE_PATH+'cluster_weights.xlsx').set_index(\"cluster\")\n",
        "weights_dict = cluster_weights[\"unnorm_weight\"].to_dict()"
      ]
    },
    {
      "cell_type": "markdown",
      "metadata": {
        "id": "yQH622O32x62"
      },
      "source": [
        "Проверка работы модели на валидационной выборке. Модель используется для предсказания вероятностей классов на валидационной выборке с помощью метода predict_proba. Затем вычисляется метрика ROC AUC с учетом весов, которые были предварительно подготовлены."
      ]
    },
    {
      "cell_type": "code",
      "execution_count": null,
      "metadata": {
        "colab": {
          "base_uri": "https://localhost:8080/"
        },
        "id": "8tkG4x762zEo",
        "outputId": "0de83e56-f64f-4a85-ff6e-e20de1dd5cd1"
      },
      "outputs": [
        {
          "data": {
            "text/plain": [
              "(120000, 17)"
            ]
          },
          "execution_count": 17,
          "metadata": {},
          "output_type": "execute_result"
        }
      ],
      "source": [
        "# Предсказание вероятностей для валидационной выборки\n",
        "y_pred_proba = model.predict_proba(x_val)\n",
        "\n",
        "# Вычисление взвешенной метрики ROC AUC\n",
        "y_pred_proba.shape"
      ]
    },
    {
      "cell_type": "code",
      "execution_count": null,
      "metadata": {
        "colab": {
          "base_uri": "https://localhost:8080/"
        },
        "id": "M98kejjU2z4Y",
        "outputId": "2c0a4569-d90a-463a-c61f-b798dc26ae7d"
      },
      "outputs": [
        {
          "name": "stdout",
          "output_type": "stream",
          "text": [
            "Метрика на валидации:  0.9430586606486161\n"
          ]
        }
      ],
      "source": [
        "print(\"Метрика на валидации: \", weighted_roc_auc(y_val, y_pred_proba, model.classes_, weights_dict))"
      ]
    },
    {
      "cell_type": "markdown",
      "metadata": {
        "id": "yaR4lVR93CXb"
      },
      "source": [
        "# Прогноз на тестовой выборке"
      ]
    },
    {
      "cell_type": "markdown",
      "metadata": {
        "id": "5Q0NdSe43Ete"
      },
      "source": [
        "Обучаем модель model_full на всей обучающей выборке (X[selected_features]), используя признаки selected_features. Эта модель будет использоваться для предсказания на тестовой выборке."
      ]
    },
    {
      "cell_type": "code",
      "execution_count": null,
      "metadata": {
        "colab": {
          "base_uri": "https://localhost:8080/",
          "height": 111
        },
        "id": "KPd6oMHX3AZc",
        "outputId": "847ff0ae-40ae-490f-96fa-24393870d1d7"
      },
      "outputs": [
        {
          "data": {
            "text/html": [
              "<style>#sk-container-id-2 {color: black;background-color: white;}#sk-container-id-2 pre{padding: 0;}#sk-container-id-2 div.sk-toggleable {background-color: white;}#sk-container-id-2 label.sk-toggleable__label {cursor: pointer;display: block;width: 100%;margin-bottom: 0;padding: 0.3em;box-sizing: border-box;text-align: center;}#sk-container-id-2 label.sk-toggleable__label-arrow:before {content: \"▸\";float: left;margin-right: 0.25em;color: #696969;}#sk-container-id-2 label.sk-toggleable__label-arrow:hover:before {color: black;}#sk-container-id-2 div.sk-estimator:hover label.sk-toggleable__label-arrow:before {color: black;}#sk-container-id-2 div.sk-toggleable__content {max-height: 0;max-width: 0;overflow: hidden;text-align: left;background-color: #f0f8ff;}#sk-container-id-2 div.sk-toggleable__content pre {margin: 0.2em;color: black;border-radius: 0.25em;background-color: #f0f8ff;}#sk-container-id-2 input.sk-toggleable__control:checked~div.sk-toggleable__content {max-height: 200px;max-width: 100%;overflow: auto;}#sk-container-id-2 input.sk-toggleable__control:checked~label.sk-toggleable__label-arrow:before {content: \"▾\";}#sk-container-id-2 div.sk-estimator input.sk-toggleable__control:checked~label.sk-toggleable__label {background-color: #d4ebff;}#sk-container-id-2 div.sk-label input.sk-toggleable__control:checked~label.sk-toggleable__label {background-color: #d4ebff;}#sk-container-id-2 input.sk-hidden--visually {border: 0;clip: rect(1px 1px 1px 1px);clip: rect(1px, 1px, 1px, 1px);height: 1px;margin: -1px;overflow: hidden;padding: 0;position: absolute;width: 1px;}#sk-container-id-2 div.sk-estimator {font-family: monospace;background-color: #f0f8ff;border: 1px dotted black;border-radius: 0.25em;box-sizing: border-box;margin-bottom: 0.5em;}#sk-container-id-2 div.sk-estimator:hover {background-color: #d4ebff;}#sk-container-id-2 div.sk-parallel-item::after {content: \"\";width: 100%;border-bottom: 1px solid gray;flex-grow: 1;}#sk-container-id-2 div.sk-label:hover label.sk-toggleable__label {background-color: #d4ebff;}#sk-container-id-2 div.sk-serial::before {content: \"\";position: absolute;border-left: 1px solid gray;box-sizing: border-box;top: 0;bottom: 0;left: 50%;z-index: 0;}#sk-container-id-2 div.sk-serial {display: flex;flex-direction: column;align-items: center;background-color: white;padding-right: 0.2em;padding-left: 0.2em;position: relative;}#sk-container-id-2 div.sk-item {position: relative;z-index: 1;}#sk-container-id-2 div.sk-parallel {display: flex;align-items: stretch;justify-content: center;background-color: white;position: relative;}#sk-container-id-2 div.sk-item::before, #sk-container-id-2 div.sk-parallel-item::before {content: \"\";position: absolute;border-left: 1px solid gray;box-sizing: border-box;top: 0;bottom: 0;left: 50%;z-index: -1;}#sk-container-id-2 div.sk-parallel-item {display: flex;flex-direction: column;z-index: 1;position: relative;background-color: white;}#sk-container-id-2 div.sk-parallel-item:first-child::after {align-self: flex-end;width: 50%;}#sk-container-id-2 div.sk-parallel-item:last-child::after {align-self: flex-start;width: 50%;}#sk-container-id-2 div.sk-parallel-item:only-child::after {width: 0;}#sk-container-id-2 div.sk-dashed-wrapped {border: 1px dashed gray;margin: 0 0.4em 0.5em 0.4em;box-sizing: border-box;padding-bottom: 0.4em;background-color: white;}#sk-container-id-2 div.sk-label label {font-family: monospace;font-weight: bold;display: inline-block;line-height: 1.2em;}#sk-container-id-2 div.sk-label-container {text-align: center;}#sk-container-id-2 div.sk-container {/* jupyter's `normalize.less` sets `[hidden] { display: none; }` but bootstrap.min.css set `[hidden] { display: none !important; }` so we also need the `!important` here to be able to override the default hidden behavior on the sphinx rendered scikit-learn.org. See: https://github.com/scikit-learn/scikit-learn/issues/21755 */display: inline-block !important;position: relative;}#sk-container-id-2 div.sk-text-repr-fallback {display: none;}</style><div id=\"sk-container-id-2\" class=\"sk-top-container\"><div class=\"sk-text-repr-fallback\"><pre>LGBMClassifier(lambda_l2=3, learning_rate=0.01, max_depth=10, n_estimators=500,\n",
              "               n_jobs=-1, random_state=42, verbosity=-1)</pre><b>In a Jupyter environment, please rerun this cell to show the HTML representation or trust the notebook. <br />On GitHub, the HTML representation is unable to render, please try loading this page with nbviewer.org.</b></div><div class=\"sk-container\" hidden><div class=\"sk-item\"><div class=\"sk-estimator sk-toggleable\"><input class=\"sk-toggleable__control sk-hidden--visually\" id=\"sk-estimator-id-2\" type=\"checkbox\" checked><label for=\"sk-estimator-id-2\" class=\"sk-toggleable__label sk-toggleable__label-arrow\">LGBMClassifier</label><div class=\"sk-toggleable__content\"><pre>LGBMClassifier(lambda_l2=3, learning_rate=0.01, max_depth=10, n_estimators=500,\n",
              "               n_jobs=-1, random_state=42, verbosity=-1)</pre></div></div></div></div></div>"
            ],
            "text/plain": [
              "LGBMClassifier(lambda_l2=3, learning_rate=0.01, max_depth=10, n_estimators=500,\n",
              "               n_jobs=-1, random_state=42, verbosity=-1)"
            ]
          },
          "execution_count": 19,
          "metadata": {},
          "output_type": "execute_result"
        }
      ],
      "source": [
        "model_full = LGBMClassifier(verbosity=-1,\n",
        "                            random_state=42,\n",
        "                            n_jobs=-1,\n",
        "                            learning_rate = 0.01,\n",
        "                            max_depth=10,\n",
        "                            lambda_l2 = 3,\n",
        "                            n_estimators = 500)\n",
        "model_full.fit(X[selected_features], y)"
      ]
    },
    {
      "cell_type": "markdown",
      "metadata": {
        "id": "h3wCgL_nHyw2"
      },
      "source": [
        "sample_submission.csv содержит заголовок для файла предсказаний."
      ]
    },
    {
      "cell_type": "code",
      "execution_count": null,
      "metadata": {
        "id": "M9bvxuBB3NOF"
      },
      "outputs": [],
      "source": [
        "sample_submission_df = pd.read_csv(FILE_PATH+\"sample_submission.csv\")"
      ]
    },
    {
      "cell_type": "code",
      "execution_count": null,
      "metadata": {
        "colab": {
          "base_uri": "https://localhost:8080/"
        },
        "id": "tyfMVZSw3PN4",
        "outputId": "0cd6358d-d4d7-4703-e0ed-8e0a623a32aa"
      },
      "outputs": [
        {
          "data": {
            "text/plain": [
              "(100000, 18)"
            ]
          },
          "execution_count": 21,
          "metadata": {},
          "output_type": "execute_result"
        }
      ],
      "source": [
        "sample_submission_df.shape"
      ]
    },
    {
      "cell_type": "code",
      "execution_count": null,
      "metadata": {
        "colab": {
          "base_uri": "https://localhost:8080/",
          "height": 258
        },
        "id": "A2nYq1hU3QMJ",
        "outputId": "5aa4849d-35cb-4a59-97c5-9336b7b6bbea"
      },
      "outputs": [
        {
          "data": {
            "application/vnd.google.colaboratory.intrinsic+json": {
              "summary": "{\n  \"name\": \"sample_submission_df\",\n  \"rows\": 100000,\n  \"fields\": [\n    {\n      \"column\": \"id\",\n      \"properties\": {\n        \"dtype\": \"number\",\n        \"std\": 28867,\n        \"min\": 200000,\n        \"max\": 299999,\n        \"num_unique_values\": 100000,\n        \"samples\": [\n          275721,\n          280184,\n          219864\n        ],\n        \"semantic_type\": \"\",\n        \"description\": \"\"\n      }\n    },\n    {\n      \"column\": \"{other}\",\n      \"properties\": {\n        \"dtype\": \"number\",\n        \"std\": 2.775571439454783e-17,\n        \"min\": 0.2,\n        \"max\": 0.2,\n        \"num_unique_values\": 1,\n        \"samples\": [\n          0.2\n        ],\n        \"semantic_type\": \"\",\n        \"description\": \"\"\n      }\n    },\n    {\n      \"column\": \"{}\",\n      \"properties\": {\n        \"dtype\": \"number\",\n        \"std\": 6.938928598636958e-18,\n        \"min\": 0.05,\n        \"max\": 0.05,\n        \"num_unique_values\": 1,\n        \"samples\": [\n          0.05\n        ],\n        \"semantic_type\": \"\",\n        \"description\": \"\"\n      }\n    },\n    {\n      \"column\": \"{\\u03b1, \\u03b2}\",\n      \"properties\": {\n        \"dtype\": \"number\",\n        \"std\": 6.938928598636958e-18,\n        \"min\": 0.05,\n        \"max\": 0.05,\n        \"num_unique_values\": 1,\n        \"samples\": [\n          0.05\n        ],\n        \"semantic_type\": \"\",\n        \"description\": \"\"\n      }\n    },\n    {\n      \"column\": \"{\\u03b1, \\u03b3}\",\n      \"properties\": {\n        \"dtype\": \"number\",\n        \"std\": 6.938928598636958e-18,\n        \"min\": 0.05,\n        \"max\": 0.05,\n        \"num_unique_values\": 1,\n        \"samples\": [\n          0.05\n        ],\n        \"semantic_type\": \"\",\n        \"description\": \"\"\n      }\n    },\n    {\n      \"column\": \"{\\u03b1, \\u03b4}\",\n      \"properties\": {\n        \"dtype\": \"number\",\n        \"std\": 6.938928598636958e-18,\n        \"min\": 0.05,\n        \"max\": 0.05,\n        \"num_unique_values\": 1,\n        \"samples\": [\n          0.05\n        ],\n        \"semantic_type\": \"\",\n        \"description\": \"\"\n      }\n    },\n    {\n      \"column\": \"{\\u03b1, \\u03b5, \\u03b7}\",\n      \"properties\": {\n        \"dtype\": \"number\",\n        \"std\": 6.938928598636958e-18,\n        \"min\": 0.05,\n        \"max\": 0.05,\n        \"num_unique_values\": 1,\n        \"samples\": [\n          0.05\n        ],\n        \"semantic_type\": \"\",\n        \"description\": \"\"\n      }\n    },\n    {\n      \"column\": \"{\\u03b1, \\u03b5, \\u03b8}\",\n      \"properties\": {\n        \"dtype\": \"number\",\n        \"std\": 6.938928598636958e-18,\n        \"min\": 0.05,\n        \"max\": 0.05,\n        \"num_unique_values\": 1,\n        \"samples\": [\n          0.05\n        ],\n        \"semantic_type\": \"\",\n        \"description\": \"\"\n      }\n    },\n    {\n      \"column\": \"{\\u03b1, \\u03b5, \\u03c8}\",\n      \"properties\": {\n        \"dtype\": \"number\",\n        \"std\": 6.938928598636958e-18,\n        \"min\": 0.05,\n        \"max\": 0.05,\n        \"num_unique_values\": 1,\n        \"samples\": [\n          0.05\n        ],\n        \"semantic_type\": \"\",\n        \"description\": \"\"\n      }\n    },\n    {\n      \"column\": \"{\\u03b1, \\u03b5}\",\n      \"properties\": {\n        \"dtype\": \"number\",\n        \"std\": 6.938928598636958e-18,\n        \"min\": 0.05,\n        \"max\": 0.05,\n        \"num_unique_values\": 1,\n        \"samples\": [\n          0.05\n        ],\n        \"semantic_type\": \"\",\n        \"description\": \"\"\n      }\n    },\n    {\n      \"column\": \"{\\u03b1, \\u03b7}\",\n      \"properties\": {\n        \"dtype\": \"number\",\n        \"std\": 6.938928598636958e-18,\n        \"min\": 0.05,\n        \"max\": 0.05,\n        \"num_unique_values\": 1,\n        \"samples\": [\n          0.05\n        ],\n        \"semantic_type\": \"\",\n        \"description\": \"\"\n      }\n    },\n    {\n      \"column\": \"{\\u03b1, \\u03b8}\",\n      \"properties\": {\n        \"dtype\": \"number\",\n        \"std\": 6.938928598636958e-18,\n        \"min\": 0.05,\n        \"max\": 0.05,\n        \"num_unique_values\": 1,\n        \"samples\": [\n          0.05\n        ],\n        \"semantic_type\": \"\",\n        \"description\": \"\"\n      }\n    },\n    {\n      \"column\": \"{\\u03b1, \\u03bb}\",\n      \"properties\": {\n        \"dtype\": \"number\",\n        \"std\": 6.938928598636958e-18,\n        \"min\": 0.05,\n        \"max\": 0.05,\n        \"num_unique_values\": 1,\n        \"samples\": [\n          0.05\n        ],\n        \"semantic_type\": \"\",\n        \"description\": \"\"\n      }\n    },\n    {\n      \"column\": \"{\\u03b1, \\u03bc}\",\n      \"properties\": {\n        \"dtype\": \"number\",\n        \"std\": 6.938928598636958e-18,\n        \"min\": 0.05,\n        \"max\": 0.05,\n        \"num_unique_values\": 1,\n        \"samples\": [\n          0.05\n        ],\n        \"semantic_type\": \"\",\n        \"description\": \"\"\n      }\n    },\n    {\n      \"column\": \"{\\u03b1, \\u03c0}\",\n      \"properties\": {\n        \"dtype\": \"number\",\n        \"std\": 6.938928598636958e-18,\n        \"min\": 0.05,\n        \"max\": 0.05,\n        \"num_unique_values\": 1,\n        \"samples\": [\n          0.05\n        ],\n        \"semantic_type\": \"\",\n        \"description\": \"\"\n      }\n    },\n    {\n      \"column\": \"{\\u03b1, \\u03c8}\",\n      \"properties\": {\n        \"dtype\": \"number\",\n        \"std\": 6.938928598636958e-18,\n        \"min\": 0.05,\n        \"max\": 0.05,\n        \"num_unique_values\": 1,\n        \"samples\": [\n          0.05\n        ],\n        \"semantic_type\": \"\",\n        \"description\": \"\"\n      }\n    },\n    {\n      \"column\": \"{\\u03b1}\",\n      \"properties\": {\n        \"dtype\": \"number\",\n        \"std\": 6.938928598636958e-18,\n        \"min\": 0.05,\n        \"max\": 0.05,\n        \"num_unique_values\": 1,\n        \"samples\": [\n          0.05\n        ],\n        \"semantic_type\": \"\",\n        \"description\": \"\"\n      }\n    },\n    {\n      \"column\": \"{\\u03bb}\",\n      \"properties\": {\n        \"dtype\": \"number\",\n        \"std\": 6.938928598636958e-18,\n        \"min\": 0.05,\n        \"max\": 0.05,\n        \"num_unique_values\": 1,\n        \"samples\": [\n          0.05\n        ],\n        \"semantic_type\": \"\",\n        \"description\": \"\"\n      }\n    }\n  ]\n}",
              "type": "dataframe",
              "variable_name": "sample_submission_df"
            },
            "text/html": [
              "\n",
              "  <div id=\"df-7eb3c43f-7e12-4e6d-81e0-61c2b905790b\" class=\"colab-df-container\">\n",
              "    <div>\n",
              "<style scoped>\n",
              "    .dataframe tbody tr th:only-of-type {\n",
              "        vertical-align: middle;\n",
              "    }\n",
              "\n",
              "    .dataframe tbody tr th {\n",
              "        vertical-align: top;\n",
              "    }\n",
              "\n",
              "    .dataframe thead th {\n",
              "        text-align: right;\n",
              "    }\n",
              "</style>\n",
              "<table border=\"1\" class=\"dataframe\">\n",
              "  <thead>\n",
              "    <tr style=\"text-align: right;\">\n",
              "      <th></th>\n",
              "      <th>id</th>\n",
              "      <th>{other}</th>\n",
              "      <th>{}</th>\n",
              "      <th>{α, β}</th>\n",
              "      <th>{α, γ}</th>\n",
              "      <th>{α, δ}</th>\n",
              "      <th>{α, ε, η}</th>\n",
              "      <th>{α, ε, θ}</th>\n",
              "      <th>{α, ε, ψ}</th>\n",
              "      <th>{α, ε}</th>\n",
              "      <th>{α, η}</th>\n",
              "      <th>{α, θ}</th>\n",
              "      <th>{α, λ}</th>\n",
              "      <th>{α, μ}</th>\n",
              "      <th>{α, π}</th>\n",
              "      <th>{α, ψ}</th>\n",
              "      <th>{α}</th>\n",
              "      <th>{λ}</th>\n",
              "    </tr>\n",
              "  </thead>\n",
              "  <tbody>\n",
              "    <tr>\n",
              "      <th>0</th>\n",
              "      <td>200000</td>\n",
              "      <td>0.2</td>\n",
              "      <td>0.05</td>\n",
              "      <td>0.05</td>\n",
              "      <td>0.05</td>\n",
              "      <td>0.05</td>\n",
              "      <td>0.05</td>\n",
              "      <td>0.05</td>\n",
              "      <td>0.05</td>\n",
              "      <td>0.05</td>\n",
              "      <td>0.05</td>\n",
              "      <td>0.05</td>\n",
              "      <td>0.05</td>\n",
              "      <td>0.05</td>\n",
              "      <td>0.05</td>\n",
              "      <td>0.05</td>\n",
              "      <td>0.05</td>\n",
              "      <td>0.05</td>\n",
              "    </tr>\n",
              "    <tr>\n",
              "      <th>1</th>\n",
              "      <td>200001</td>\n",
              "      <td>0.2</td>\n",
              "      <td>0.05</td>\n",
              "      <td>0.05</td>\n",
              "      <td>0.05</td>\n",
              "      <td>0.05</td>\n",
              "      <td>0.05</td>\n",
              "      <td>0.05</td>\n",
              "      <td>0.05</td>\n",
              "      <td>0.05</td>\n",
              "      <td>0.05</td>\n",
              "      <td>0.05</td>\n",
              "      <td>0.05</td>\n",
              "      <td>0.05</td>\n",
              "      <td>0.05</td>\n",
              "      <td>0.05</td>\n",
              "      <td>0.05</td>\n",
              "      <td>0.05</td>\n",
              "    </tr>\n",
              "    <tr>\n",
              "      <th>2</th>\n",
              "      <td>200002</td>\n",
              "      <td>0.2</td>\n",
              "      <td>0.05</td>\n",
              "      <td>0.05</td>\n",
              "      <td>0.05</td>\n",
              "      <td>0.05</td>\n",
              "      <td>0.05</td>\n",
              "      <td>0.05</td>\n",
              "      <td>0.05</td>\n",
              "      <td>0.05</td>\n",
              "      <td>0.05</td>\n",
              "      <td>0.05</td>\n",
              "      <td>0.05</td>\n",
              "      <td>0.05</td>\n",
              "      <td>0.05</td>\n",
              "      <td>0.05</td>\n",
              "      <td>0.05</td>\n",
              "      <td>0.05</td>\n",
              "    </tr>\n",
              "    <tr>\n",
              "      <th>3</th>\n",
              "      <td>200003</td>\n",
              "      <td>0.2</td>\n",
              "      <td>0.05</td>\n",
              "      <td>0.05</td>\n",
              "      <td>0.05</td>\n",
              "      <td>0.05</td>\n",
              "      <td>0.05</td>\n",
              "      <td>0.05</td>\n",
              "      <td>0.05</td>\n",
              "      <td>0.05</td>\n",
              "      <td>0.05</td>\n",
              "      <td>0.05</td>\n",
              "      <td>0.05</td>\n",
              "      <td>0.05</td>\n",
              "      <td>0.05</td>\n",
              "      <td>0.05</td>\n",
              "      <td>0.05</td>\n",
              "      <td>0.05</td>\n",
              "    </tr>\n",
              "    <tr>\n",
              "      <th>4</th>\n",
              "      <td>200004</td>\n",
              "      <td>0.2</td>\n",
              "      <td>0.05</td>\n",
              "      <td>0.05</td>\n",
              "      <td>0.05</td>\n",
              "      <td>0.05</td>\n",
              "      <td>0.05</td>\n",
              "      <td>0.05</td>\n",
              "      <td>0.05</td>\n",
              "      <td>0.05</td>\n",
              "      <td>0.05</td>\n",
              "      <td>0.05</td>\n",
              "      <td>0.05</td>\n",
              "      <td>0.05</td>\n",
              "      <td>0.05</td>\n",
              "      <td>0.05</td>\n",
              "      <td>0.05</td>\n",
              "      <td>0.05</td>\n",
              "    </tr>\n",
              "  </tbody>\n",
              "</table>\n",
              "</div>\n",
              "    <div class=\"colab-df-buttons\">\n",
              "\n",
              "  <div class=\"colab-df-container\">\n",
              "    <button class=\"colab-df-convert\" onclick=\"convertToInteractive('df-7eb3c43f-7e12-4e6d-81e0-61c2b905790b')\"\n",
              "            title=\"Convert this dataframe to an interactive table.\"\n",
              "            style=\"display:none;\">\n",
              "\n",
              "  <svg xmlns=\"http://www.w3.org/2000/svg\" height=\"24px\" viewBox=\"0 -960 960 960\">\n",
              "    <path d=\"M120-120v-720h720v720H120Zm60-500h600v-160H180v160Zm220 220h160v-160H400v160Zm0 220h160v-160H400v160ZM180-400h160v-160H180v160Zm440 0h160v-160H620v160ZM180-180h160v-160H180v160Zm440 0h160v-160H620v160Z\"/>\n",
              "  </svg>\n",
              "    </button>\n",
              "\n",
              "  <style>\n",
              "    .colab-df-container {\n",
              "      display:flex;\n",
              "      gap: 12px;\n",
              "    }\n",
              "\n",
              "    .colab-df-convert {\n",
              "      background-color: #E8F0FE;\n",
              "      border: none;\n",
              "      border-radius: 50%;\n",
              "      cursor: pointer;\n",
              "      display: none;\n",
              "      fill: #1967D2;\n",
              "      height: 32px;\n",
              "      padding: 0 0 0 0;\n",
              "      width: 32px;\n",
              "    }\n",
              "\n",
              "    .colab-df-convert:hover {\n",
              "      background-color: #E2EBFA;\n",
              "      box-shadow: 0px 1px 2px rgba(60, 64, 67, 0.3), 0px 1px 3px 1px rgba(60, 64, 67, 0.15);\n",
              "      fill: #174EA6;\n",
              "    }\n",
              "\n",
              "    .colab-df-buttons div {\n",
              "      margin-bottom: 4px;\n",
              "    }\n",
              "\n",
              "    [theme=dark] .colab-df-convert {\n",
              "      background-color: #3B4455;\n",
              "      fill: #D2E3FC;\n",
              "    }\n",
              "\n",
              "    [theme=dark] .colab-df-convert:hover {\n",
              "      background-color: #434B5C;\n",
              "      box-shadow: 0px 1px 3px 1px rgba(0, 0, 0, 0.15);\n",
              "      filter: drop-shadow(0px 1px 2px rgba(0, 0, 0, 0.3));\n",
              "      fill: #FFFFFF;\n",
              "    }\n",
              "  </style>\n",
              "\n",
              "    <script>\n",
              "      const buttonEl =\n",
              "        document.querySelector('#df-7eb3c43f-7e12-4e6d-81e0-61c2b905790b button.colab-df-convert');\n",
              "      buttonEl.style.display =\n",
              "        google.colab.kernel.accessAllowed ? 'block' : 'none';\n",
              "\n",
              "      async function convertToInteractive(key) {\n",
              "        const element = document.querySelector('#df-7eb3c43f-7e12-4e6d-81e0-61c2b905790b');\n",
              "        const dataTable =\n",
              "          await google.colab.kernel.invokeFunction('convertToInteractive',\n",
              "                                                    [key], {});\n",
              "        if (!dataTable) return;\n",
              "\n",
              "        const docLinkHtml = 'Like what you see? Visit the ' +\n",
              "          '<a target=\"_blank\" href=https://colab.research.google.com/notebooks/data_table.ipynb>data table notebook</a>'\n",
              "          + ' to learn more about interactive tables.';\n",
              "        element.innerHTML = '';\n",
              "        dataTable['output_type'] = 'display_data';\n",
              "        await google.colab.output.renderOutput(dataTable, element);\n",
              "        const docLink = document.createElement('div');\n",
              "        docLink.innerHTML = docLinkHtml;\n",
              "        element.appendChild(docLink);\n",
              "      }\n",
              "    </script>\n",
              "  </div>\n",
              "\n",
              "\n",
              "<div id=\"df-18687804-4c24-4d10-b7be-d150a15f05a2\">\n",
              "  <button class=\"colab-df-quickchart\" onclick=\"quickchart('df-18687804-4c24-4d10-b7be-d150a15f05a2')\"\n",
              "            title=\"Suggest charts\"\n",
              "            style=\"display:none;\">\n",
              "\n",
              "<svg xmlns=\"http://www.w3.org/2000/svg\" height=\"24px\"viewBox=\"0 0 24 24\"\n",
              "     width=\"24px\">\n",
              "    <g>\n",
              "        <path d=\"M19 3H5c-1.1 0-2 .9-2 2v14c0 1.1.9 2 2 2h14c1.1 0 2-.9 2-2V5c0-1.1-.9-2-2-2zM9 17H7v-7h2v7zm4 0h-2V7h2v10zm4 0h-2v-4h2v4z\"/>\n",
              "    </g>\n",
              "</svg>\n",
              "  </button>\n",
              "\n",
              "<style>\n",
              "  .colab-df-quickchart {\n",
              "      --bg-color: #E8F0FE;\n",
              "      --fill-color: #1967D2;\n",
              "      --hover-bg-color: #E2EBFA;\n",
              "      --hover-fill-color: #174EA6;\n",
              "      --disabled-fill-color: #AAA;\n",
              "      --disabled-bg-color: #DDD;\n",
              "  }\n",
              "\n",
              "  [theme=dark] .colab-df-quickchart {\n",
              "      --bg-color: #3B4455;\n",
              "      --fill-color: #D2E3FC;\n",
              "      --hover-bg-color: #434B5C;\n",
              "      --hover-fill-color: #FFFFFF;\n",
              "      --disabled-bg-color: #3B4455;\n",
              "      --disabled-fill-color: #666;\n",
              "  }\n",
              "\n",
              "  .colab-df-quickchart {\n",
              "    background-color: var(--bg-color);\n",
              "    border: none;\n",
              "    border-radius: 50%;\n",
              "    cursor: pointer;\n",
              "    display: none;\n",
              "    fill: var(--fill-color);\n",
              "    height: 32px;\n",
              "    padding: 0;\n",
              "    width: 32px;\n",
              "  }\n",
              "\n",
              "  .colab-df-quickchart:hover {\n",
              "    background-color: var(--hover-bg-color);\n",
              "    box-shadow: 0 1px 2px rgba(60, 64, 67, 0.3), 0 1px 3px 1px rgba(60, 64, 67, 0.15);\n",
              "    fill: var(--button-hover-fill-color);\n",
              "  }\n",
              "\n",
              "  .colab-df-quickchart-complete:disabled,\n",
              "  .colab-df-quickchart-complete:disabled:hover {\n",
              "    background-color: var(--disabled-bg-color);\n",
              "    fill: var(--disabled-fill-color);\n",
              "    box-shadow: none;\n",
              "  }\n",
              "\n",
              "  .colab-df-spinner {\n",
              "    border: 2px solid var(--fill-color);\n",
              "    border-color: transparent;\n",
              "    border-bottom-color: var(--fill-color);\n",
              "    animation:\n",
              "      spin 1s steps(1) infinite;\n",
              "  }\n",
              "\n",
              "  @keyframes spin {\n",
              "    0% {\n",
              "      border-color: transparent;\n",
              "      border-bottom-color: var(--fill-color);\n",
              "      border-left-color: var(--fill-color);\n",
              "    }\n",
              "    20% {\n",
              "      border-color: transparent;\n",
              "      border-left-color: var(--fill-color);\n",
              "      border-top-color: var(--fill-color);\n",
              "    }\n",
              "    30% {\n",
              "      border-color: transparent;\n",
              "      border-left-color: var(--fill-color);\n",
              "      border-top-color: var(--fill-color);\n",
              "      border-right-color: var(--fill-color);\n",
              "    }\n",
              "    40% {\n",
              "      border-color: transparent;\n",
              "      border-right-color: var(--fill-color);\n",
              "      border-top-color: var(--fill-color);\n",
              "    }\n",
              "    60% {\n",
              "      border-color: transparent;\n",
              "      border-right-color: var(--fill-color);\n",
              "    }\n",
              "    80% {\n",
              "      border-color: transparent;\n",
              "      border-right-color: var(--fill-color);\n",
              "      border-bottom-color: var(--fill-color);\n",
              "    }\n",
              "    90% {\n",
              "      border-color: transparent;\n",
              "      border-bottom-color: var(--fill-color);\n",
              "    }\n",
              "  }\n",
              "</style>\n",
              "\n",
              "  <script>\n",
              "    async function quickchart(key) {\n",
              "      const quickchartButtonEl =\n",
              "        document.querySelector('#' + key + ' button');\n",
              "      quickchartButtonEl.disabled = true;  // To prevent multiple clicks.\n",
              "      quickchartButtonEl.classList.add('colab-df-spinner');\n",
              "      try {\n",
              "        const charts = await google.colab.kernel.invokeFunction(\n",
              "            'suggestCharts', [key], {});\n",
              "      } catch (error) {\n",
              "        console.error('Error during call to suggestCharts:', error);\n",
              "      }\n",
              "      quickchartButtonEl.classList.remove('colab-df-spinner');\n",
              "      quickchartButtonEl.classList.add('colab-df-quickchart-complete');\n",
              "    }\n",
              "    (() => {\n",
              "      let quickchartButtonEl =\n",
              "        document.querySelector('#df-18687804-4c24-4d10-b7be-d150a15f05a2 button');\n",
              "      quickchartButtonEl.style.display =\n",
              "        google.colab.kernel.accessAllowed ? 'block' : 'none';\n",
              "    })();\n",
              "  </script>\n",
              "</div>\n",
              "    </div>\n",
              "  </div>\n"
            ],
            "text/plain": [
              "       id  {other}    {}  {α, β}  {α, γ}  {α, δ}  {α, ε, η}  {α, ε, θ}  \\\n",
              "0  200000      0.2  0.05    0.05    0.05    0.05       0.05       0.05   \n",
              "1  200001      0.2  0.05    0.05    0.05    0.05       0.05       0.05   \n",
              "2  200002      0.2  0.05    0.05    0.05    0.05       0.05       0.05   \n",
              "3  200003      0.2  0.05    0.05    0.05    0.05       0.05       0.05   \n",
              "4  200004      0.2  0.05    0.05    0.05    0.05       0.05       0.05   \n",
              "\n",
              "   {α, ε, ψ}  {α, ε}  {α, η}  {α, θ}  {α, λ}  {α, μ}  {α, π}  {α, ψ}   {α}  \\\n",
              "0       0.05    0.05    0.05    0.05    0.05    0.05    0.05    0.05  0.05   \n",
              "1       0.05    0.05    0.05    0.05    0.05    0.05    0.05    0.05  0.05   \n",
              "2       0.05    0.05    0.05    0.05    0.05    0.05    0.05    0.05  0.05   \n",
              "3       0.05    0.05    0.05    0.05    0.05    0.05    0.05    0.05  0.05   \n",
              "4       0.05    0.05    0.05    0.05    0.05    0.05    0.05    0.05  0.05   \n",
              "\n",
              "    {λ}  \n",
              "0  0.05  \n",
              "1  0.05  \n",
              "2  0.05  \n",
              "3  0.05  \n",
              "4  0.05  "
            ]
          },
          "execution_count": 22,
          "metadata": {},
          "output_type": "execute_result"
        }
      ],
      "source": [
        "sample_submission_df.head()"
      ]
    },
    {
      "cell_type": "markdown",
      "metadata": {
        "id": "IUJ_sew03S7b"
      },
      "source": [
        "DataFrame last_m_test_df содержит только строки из тестового набора данных, соответствующие последнему месяцу."
      ]
    },
    {
      "cell_type": "code",
      "execution_count": null,
      "metadata": {
        "id": "Nnv_QoYH3R85"
      },
      "outputs": [],
      "source": [
        "last_m_test_df = test_df[test_df[\"date\"] == \"month_6\"]\n",
        "last_m_test_df = last_m_test_df.drop([\"id\", \"date\"], axis=1)"
      ]
    },
    {
      "cell_type": "markdown",
      "metadata": {
        "id": "uS1L26UQIN6F"
      },
      "source": [
        "Здесь модель используется для предсказания вероятностей классов для тестовой выборки на последнем месяце. Предсказанные вероятности записываются в DataFrame test_pred_proba_df."
      ]
    },
    {
      "cell_type": "code",
      "execution_count": null,
      "metadata": {
        "colab": {
          "background_save": true
        },
        "id": "baInw1vp3XKR"
      },
      "outputs": [],
      "source": [
        "test_pred_proba = model_full.predict_proba(last_m_test_df[selected_features])\n",
        "test_pred_proba_df = pd.DataFrame(test_pred_proba, columns=model.classes_)\n",
        "sorted_classes = sorted(test_pred_proba_df.columns.to_list())\n",
        "test_pred_proba_df = test_pred_proba_df[sorted_classes]"
      ]
    },
    {
      "cell_type": "code",
      "execution_count": null,
      "metadata": {
        "colab": {
          "base_uri": "https://localhost:8080/"
        },
        "id": "BV90k9QD3YD8",
        "outputId": "774296d5-0c48-4c20-9436-da06e804dd77"
      },
      "outputs": [
        {
          "data": {
            "text/plain": [
              "(100000, 17)"
            ]
          },
          "execution_count": 26,
          "metadata": {},
          "output_type": "execute_result"
        }
      ],
      "source": [
        "test_pred_proba_df.shape"
      ]
    },
    {
      "cell_type": "code",
      "execution_count": null,
      "metadata": {
        "colab": {
          "base_uri": "https://localhost:8080/",
          "height": 396
        },
        "id": "8U83XoS43Y3m",
        "outputId": "093326bd-300b-4a53-c745-75ba8bb02a3c"
      },
      "outputs": [
        {
          "data": {
            "application/vnd.google.colaboratory.intrinsic+json": {
              "summary": "{\n  \"name\": \"test_pred_proba_df\",\n  \"rows\": 100000,\n  \"fields\": [\n    {\n      \"column\": \"{other}\",\n      \"properties\": {\n        \"dtype\": \"number\",\n        \"std\": 0.16335213172656712,\n        \"min\": 0.0005541018548140404,\n        \"max\": 0.9492700250870614,\n        \"num_unique_values\": 99973,\n        \"samples\": [\n          0.01180260154726364,\n          0.004603772524844192,\n          0.7266731405496982\n        ],\n        \"semantic_type\": \"\",\n        \"description\": \"\"\n      }\n    },\n    {\n      \"column\": \"{}\",\n      \"properties\": {\n        \"dtype\": \"number\",\n        \"std\": 0.2549319969755474,\n        \"min\": 0.0003552783030319245,\n        \"max\": 0.9563502574748101,\n        \"num_unique_values\": 99973,\n        \"samples\": [\n          0.4937135507655743,\n          0.7225912315316648,\n          0.009870343515569459\n        ],\n        \"semantic_type\": \"\",\n        \"description\": \"\"\n      }\n    },\n    {\n      \"column\": \"{\\u03b1, \\u03b2}\",\n      \"properties\": {\n        \"dtype\": \"number\",\n        \"std\": 0.06414323268343729,\n        \"min\": 3.817690583697761e-05,\n        \"max\": 0.9122571419819868,\n        \"num_unique_values\": 99973,\n        \"samples\": [\n          0.0008467251016119606,\n          0.001210067527166668,\n          0.004289752217272847\n        ],\n        \"semantic_type\": \"\",\n        \"description\": \"\"\n      }\n    },\n    {\n      \"column\": \"{\\u03b1, \\u03b3}\",\n      \"properties\": {\n        \"dtype\": \"number\",\n        \"std\": 0.1410596784763821,\n        \"min\": 5.424484021293313e-05,\n        \"max\": 0.9538347087636573,\n        \"num_unique_values\": 99973,\n        \"samples\": [\n          0.0021778324958463555,\n          0.003714537388040656,\n          0.031617022756688436\n        ],\n        \"semantic_type\": \"\",\n        \"description\": \"\"\n      }\n    },\n    {\n      \"column\": \"{\\u03b1, \\u03b4}\",\n      \"properties\": {\n        \"dtype\": \"number\",\n        \"std\": 0.026483686416277855,\n        \"min\": 1.0822404310209553e-05,\n        \"max\": 0.770705668161607,\n        \"num_unique_values\": 99973,\n        \"samples\": [\n          0.0004177470435812493,\n          0.0006829396458714705,\n          0.002215603378602821\n        ],\n        \"semantic_type\": \"\",\n        \"description\": \"\"\n      }\n    },\n    {\n      \"column\": \"{\\u03b1, \\u03b5, \\u03b7}\",\n      \"properties\": {\n        \"dtype\": \"number\",\n        \"std\": 0.02153259039604725,\n        \"min\": 7.010098471715806e-06,\n        \"max\": 0.8939204384438364,\n        \"num_unique_values\": 99973,\n        \"samples\": [\n          0.00022034081908655742,\n          3.80430649725816e-05,\n          0.012407344003694552\n        ],\n        \"semantic_type\": \"\",\n        \"description\": \"\"\n      }\n    },\n    {\n      \"column\": \"{\\u03b1, \\u03b5, \\u03b8}\",\n      \"properties\": {\n        \"dtype\": \"number\",\n        \"std\": 0.010300905787099746,\n        \"min\": 3.7377213500399854e-06,\n        \"max\": 0.6929580278486971,\n        \"num_unique_values\": 99973,\n        \"samples\": [\n          9.49758411650516e-05,\n          0.00013429643843794746,\n          0.0010424563565690824\n        ],\n        \"semantic_type\": \"\",\n        \"description\": \"\"\n      }\n    },\n    {\n      \"column\": \"{\\u03b1, \\u03b5, \\u03c8}\",\n      \"properties\": {\n        \"dtype\": \"number\",\n        \"std\": 0.0041103067500625565,\n        \"min\": 6.504068262286936e-07,\n        \"max\": 0.6129808789861042,\n        \"num_unique_values\": 99973,\n        \"samples\": [\n          1.4037904337764255e-05,\n          2.036163961676123e-05,\n          0.0006870100707085609\n        ],\n        \"semantic_type\": \"\",\n        \"description\": \"\"\n      }\n    },\n    {\n      \"column\": \"{\\u03b1, \\u03b5}\",\n      \"properties\": {\n        \"dtype\": \"number\",\n        \"std\": 0.03550795263321255,\n        \"min\": 2.4167423697994337e-05,\n        \"max\": 0.7680728483193159,\n        \"num_unique_values\": 99973,\n        \"samples\": [\n          0.0007937325442793619,\n          0.000811083431288176,\n          0.010208749710536586\n        ],\n        \"semantic_type\": \"\",\n        \"description\": \"\"\n      }\n    },\n    {\n      \"column\": \"{\\u03b1, \\u03b7}\",\n      \"properties\": {\n        \"dtype\": \"number\",\n        \"std\": 0.1897064624389461,\n        \"min\": 0.00023678562681420524,\n        \"max\": 0.9957617172187434,\n        \"num_unique_values\": 99973,\n        \"samples\": [\n          0.011887372608754731,\n          0.0016854881106409152,\n          0.1388547371867402\n        ],\n        \"semantic_type\": \"\",\n        \"description\": \"\"\n      }\n    },\n    {\n      \"column\": \"{\\u03b1, \\u03b8}\",\n      \"properties\": {\n        \"dtype\": \"number\",\n        \"std\": 0.050722631360319334,\n        \"min\": 2.60923992823185e-05,\n        \"max\": 0.9081439839998897,\n        \"num_unique_values\": 99973,\n        \"samples\": [\n          0.0010631269004943733,\n          0.0009470580719260419,\n          0.016605646900554855\n        ],\n        \"semantic_type\": \"\",\n        \"description\": \"\"\n      }\n    },\n    {\n      \"column\": \"{\\u03b1, \\u03bb}\",\n      \"properties\": {\n        \"dtype\": \"number\",\n        \"std\": 0.009290523926456386,\n        \"min\": 1.6120174769122662e-06,\n        \"max\": 0.7178242105951538,\n        \"num_unique_values\": 99973,\n        \"samples\": [\n          5.01542417104916e-05,\n          7.767024870233568e-05,\n          0.00016494162483429893\n        ],\n        \"semantic_type\": \"\",\n        \"description\": \"\"\n      }\n    },\n    {\n      \"column\": \"{\\u03b1, \\u03bc}\",\n      \"properties\": {\n        \"dtype\": \"number\",\n        \"std\": 0.025783505270481243,\n        \"min\": 1.6519109282892244e-05,\n        \"max\": 0.910569340245479,\n        \"num_unique_values\": 99973,\n        \"samples\": [\n          0.0005032483810880848,\n          0.00013968677287775,\n          0.001261809972163196\n        ],\n        \"semantic_type\": \"\",\n        \"description\": \"\"\n      }\n    },\n    {\n      \"column\": \"{\\u03b1, \\u03c0}\",\n      \"properties\": {\n        \"dtype\": \"number\",\n        \"std\": 0.0004034985434802134,\n        \"min\": 8.416648728894235e-08,\n        \"max\": 0.07669283374533531,\n        \"num_unique_values\": 99973,\n        \"samples\": [\n          4.094824172234082e-06,\n          4.383491343778695e-05,\n          3.6427023305148474e-06\n        ],\n        \"semantic_type\": \"\",\n        \"description\": \"\"\n      }\n    },\n    {\n      \"column\": \"{\\u03b1, \\u03c8}\",\n      \"properties\": {\n        \"dtype\": \"number\",\n        \"std\": 0.03543429069581568,\n        \"min\": 4.555966228282631e-06,\n        \"max\": 0.885211787290188,\n        \"num_unique_values\": 99973,\n        \"samples\": [\n          0.00017670183286325915,\n          0.0010535493439966486,\n          0.001518318230912068\n        ],\n        \"semantic_type\": \"\",\n        \"description\": \"\"\n      }\n    },\n    {\n      \"column\": \"{\\u03b1}\",\n      \"properties\": {\n        \"dtype\": \"number\",\n        \"std\": 0.30328758291317515,\n        \"min\": 0.0017698486832922163,\n        \"max\": 0.9892299631918158,\n        \"num_unique_values\": 99973,\n        \"samples\": [\n          0.47621852935702425,\n          0.2622304740491593,\n          0.042545859024489686\n        ],\n        \"semantic_type\": \"\",\n        \"description\": \"\"\n      }\n    },\n    {\n      \"column\": \"{\\u03bb}\",\n      \"properties\": {\n        \"dtype\": \"number\",\n        \"std\": 0.00393499148276135,\n        \"min\": 1.463947600393066e-07,\n        \"max\": 0.7350608186791151,\n        \"num_unique_values\": 99973,\n        \"samples\": [\n          1.5227791146219363e-05,\n          1.5905297356012898e-05,\n          3.362179863461375e-05\n        ],\n        \"semantic_type\": \"\",\n        \"description\": \"\"\n      }\n    }\n  ]\n}",
              "type": "dataframe",
              "variable_name": "test_pred_proba_df"
            },
            "text/html": [
              "\n",
              "  <div id=\"df-034373a0-60d5-414f-b3d4-54f4fb081352\" class=\"colab-df-container\">\n",
              "    <div>\n",
              "<style scoped>\n",
              "    .dataframe tbody tr th:only-of-type {\n",
              "        vertical-align: middle;\n",
              "    }\n",
              "\n",
              "    .dataframe tbody tr th {\n",
              "        vertical-align: top;\n",
              "    }\n",
              "\n",
              "    .dataframe thead th {\n",
              "        text-align: right;\n",
              "    }\n",
              "</style>\n",
              "<table border=\"1\" class=\"dataframe\">\n",
              "  <thead>\n",
              "    <tr style=\"text-align: right;\">\n",
              "      <th></th>\n",
              "      <th>{other}</th>\n",
              "      <th>{}</th>\n",
              "      <th>{α, β}</th>\n",
              "      <th>{α, γ}</th>\n",
              "      <th>{α, δ}</th>\n",
              "      <th>{α, ε, η}</th>\n",
              "      <th>{α, ε, θ}</th>\n",
              "      <th>{α, ε, ψ}</th>\n",
              "      <th>{α, ε}</th>\n",
              "      <th>{α, η}</th>\n",
              "      <th>{α, θ}</th>\n",
              "      <th>{α, λ}</th>\n",
              "      <th>{α, μ}</th>\n",
              "      <th>{α, π}</th>\n",
              "      <th>{α, ψ}</th>\n",
              "      <th>{α}</th>\n",
              "      <th>{λ}</th>\n",
              "    </tr>\n",
              "  </thead>\n",
              "  <tbody>\n",
              "    <tr>\n",
              "      <th>0</th>\n",
              "      <td>0.010243</td>\n",
              "      <td>0.012793</td>\n",
              "      <td>0.024907</td>\n",
              "      <td>0.020239</td>\n",
              "      <td>0.002600</td>\n",
              "      <td>0.000083</td>\n",
              "      <td>0.000214</td>\n",
              "      <td>0.000100</td>\n",
              "      <td>0.002928</td>\n",
              "      <td>0.003960</td>\n",
              "      <td>0.028940</td>\n",
              "      <td>0.000105</td>\n",
              "      <td>0.001513</td>\n",
              "      <td>0.000003</td>\n",
              "      <td>0.000734</td>\n",
              "      <td>0.890616</td>\n",
              "      <td>0.000021</td>\n",
              "    </tr>\n",
              "    <tr>\n",
              "      <th>1</th>\n",
              "      <td>0.006444</td>\n",
              "      <td>0.643875</td>\n",
              "      <td>0.001265</td>\n",
              "      <td>0.003101</td>\n",
              "      <td>0.000500</td>\n",
              "      <td>0.000247</td>\n",
              "      <td>0.000362</td>\n",
              "      <td>0.000064</td>\n",
              "      <td>0.002201</td>\n",
              "      <td>0.009944</td>\n",
              "      <td>0.001835</td>\n",
              "      <td>0.000055</td>\n",
              "      <td>0.000522</td>\n",
              "      <td>0.000003</td>\n",
              "      <td>0.001594</td>\n",
              "      <td>0.327967</td>\n",
              "      <td>0.000022</td>\n",
              "    </tr>\n",
              "    <tr>\n",
              "      <th>2</th>\n",
              "      <td>0.775783</td>\n",
              "      <td>0.007613</td>\n",
              "      <td>0.009663</td>\n",
              "      <td>0.031277</td>\n",
              "      <td>0.015089</td>\n",
              "      <td>0.000901</td>\n",
              "      <td>0.003178</td>\n",
              "      <td>0.001160</td>\n",
              "      <td>0.030958</td>\n",
              "      <td>0.011500</td>\n",
              "      <td>0.020295</td>\n",
              "      <td>0.000302</td>\n",
              "      <td>0.002834</td>\n",
              "      <td>0.000010</td>\n",
              "      <td>0.018453</td>\n",
              "      <td>0.070929</td>\n",
              "      <td>0.000056</td>\n",
              "    </tr>\n",
              "    <tr>\n",
              "      <th>3</th>\n",
              "      <td>0.050799</td>\n",
              "      <td>0.604731</td>\n",
              "      <td>0.001781</td>\n",
              "      <td>0.003545</td>\n",
              "      <td>0.000341</td>\n",
              "      <td>0.000180</td>\n",
              "      <td>0.000225</td>\n",
              "      <td>0.000139</td>\n",
              "      <td>0.009089</td>\n",
              "      <td>0.016458</td>\n",
              "      <td>0.002420</td>\n",
              "      <td>0.000075</td>\n",
              "      <td>0.000280</td>\n",
              "      <td>0.000004</td>\n",
              "      <td>0.000199</td>\n",
              "      <td>0.309729</td>\n",
              "      <td>0.000006</td>\n",
              "    </tr>\n",
              "    <tr>\n",
              "      <th>4</th>\n",
              "      <td>0.050196</td>\n",
              "      <td>0.164757</td>\n",
              "      <td>0.003276</td>\n",
              "      <td>0.010358</td>\n",
              "      <td>0.002179</td>\n",
              "      <td>0.000520</td>\n",
              "      <td>0.000164</td>\n",
              "      <td>0.000033</td>\n",
              "      <td>0.002131</td>\n",
              "      <td>0.329940</td>\n",
              "      <td>0.005496</td>\n",
              "      <td>0.000086</td>\n",
              "      <td>0.001608</td>\n",
              "      <td>0.000006</td>\n",
              "      <td>0.000354</td>\n",
              "      <td>0.428886</td>\n",
              "      <td>0.000010</td>\n",
              "    </tr>\n",
              "    <tr>\n",
              "      <th>5</th>\n",
              "      <td>0.075562</td>\n",
              "      <td>0.012217</td>\n",
              "      <td>0.054331</td>\n",
              "      <td>0.087893</td>\n",
              "      <td>0.074003</td>\n",
              "      <td>0.000097</td>\n",
              "      <td>0.005741</td>\n",
              "      <td>0.000067</td>\n",
              "      <td>0.009162</td>\n",
              "      <td>0.003890</td>\n",
              "      <td>0.015108</td>\n",
              "      <td>0.011834</td>\n",
              "      <td>0.000492</td>\n",
              "      <td>0.000007</td>\n",
              "      <td>0.004046</td>\n",
              "      <td>0.645526</td>\n",
              "      <td>0.000025</td>\n",
              "    </tr>\n",
              "    <tr>\n",
              "      <th>6</th>\n",
              "      <td>0.005181</td>\n",
              "      <td>0.705339</td>\n",
              "      <td>0.001437</td>\n",
              "      <td>0.002984</td>\n",
              "      <td>0.000453</td>\n",
              "      <td>0.000078</td>\n",
              "      <td>0.000262</td>\n",
              "      <td>0.000027</td>\n",
              "      <td>0.000622</td>\n",
              "      <td>0.002986</td>\n",
              "      <td>0.000894</td>\n",
              "      <td>0.000376</td>\n",
              "      <td>0.000139</td>\n",
              "      <td>0.000023</td>\n",
              "      <td>0.001017</td>\n",
              "      <td>0.278170</td>\n",
              "      <td>0.000009</td>\n",
              "    </tr>\n",
              "    <tr>\n",
              "      <th>7</th>\n",
              "      <td>0.014664</td>\n",
              "      <td>0.012050</td>\n",
              "      <td>0.015630</td>\n",
              "      <td>0.030094</td>\n",
              "      <td>0.002750</td>\n",
              "      <td>0.000059</td>\n",
              "      <td>0.000124</td>\n",
              "      <td>0.000013</td>\n",
              "      <td>0.001257</td>\n",
              "      <td>0.022744</td>\n",
              "      <td>0.003853</td>\n",
              "      <td>0.001133</td>\n",
              "      <td>0.020998</td>\n",
              "      <td>0.000003</td>\n",
              "      <td>0.000487</td>\n",
              "      <td>0.874135</td>\n",
              "      <td>0.000005</td>\n",
              "    </tr>\n",
              "    <tr>\n",
              "      <th>8</th>\n",
              "      <td>0.057692</td>\n",
              "      <td>0.329282</td>\n",
              "      <td>0.002999</td>\n",
              "      <td>0.010563</td>\n",
              "      <td>0.001620</td>\n",
              "      <td>0.000828</td>\n",
              "      <td>0.000799</td>\n",
              "      <td>0.000045</td>\n",
              "      <td>0.004523</td>\n",
              "      <td>0.152124</td>\n",
              "      <td>0.005391</td>\n",
              "      <td>0.000107</td>\n",
              "      <td>0.000997</td>\n",
              "      <td>0.000007</td>\n",
              "      <td>0.000696</td>\n",
              "      <td>0.432296</td>\n",
              "      <td>0.000030</td>\n",
              "    </tr>\n",
              "    <tr>\n",
              "      <th>9</th>\n",
              "      <td>0.014289</td>\n",
              "      <td>0.235970</td>\n",
              "      <td>0.056080</td>\n",
              "      <td>0.092009</td>\n",
              "      <td>0.000798</td>\n",
              "      <td>0.000096</td>\n",
              "      <td>0.000263</td>\n",
              "      <td>0.000028</td>\n",
              "      <td>0.001815</td>\n",
              "      <td>0.015280</td>\n",
              "      <td>0.003791</td>\n",
              "      <td>0.000124</td>\n",
              "      <td>0.001060</td>\n",
              "      <td>0.000005</td>\n",
              "      <td>0.000421</td>\n",
              "      <td>0.577946</td>\n",
              "      <td>0.000025</td>\n",
              "    </tr>\n",
              "  </tbody>\n",
              "</table>\n",
              "</div>\n",
              "    <div class=\"colab-df-buttons\">\n",
              "\n",
              "  <div class=\"colab-df-container\">\n",
              "    <button class=\"colab-df-convert\" onclick=\"convertToInteractive('df-034373a0-60d5-414f-b3d4-54f4fb081352')\"\n",
              "            title=\"Convert this dataframe to an interactive table.\"\n",
              "            style=\"display:none;\">\n",
              "\n",
              "  <svg xmlns=\"http://www.w3.org/2000/svg\" height=\"24px\" viewBox=\"0 -960 960 960\">\n",
              "    <path d=\"M120-120v-720h720v720H120Zm60-500h600v-160H180v160Zm220 220h160v-160H400v160Zm0 220h160v-160H400v160ZM180-400h160v-160H180v160Zm440 0h160v-160H620v160ZM180-180h160v-160H180v160Zm440 0h160v-160H620v160Z\"/>\n",
              "  </svg>\n",
              "    </button>\n",
              "\n",
              "  <style>\n",
              "    .colab-df-container {\n",
              "      display:flex;\n",
              "      gap: 12px;\n",
              "    }\n",
              "\n",
              "    .colab-df-convert {\n",
              "      background-color: #E8F0FE;\n",
              "      border: none;\n",
              "      border-radius: 50%;\n",
              "      cursor: pointer;\n",
              "      display: none;\n",
              "      fill: #1967D2;\n",
              "      height: 32px;\n",
              "      padding: 0 0 0 0;\n",
              "      width: 32px;\n",
              "    }\n",
              "\n",
              "    .colab-df-convert:hover {\n",
              "      background-color: #E2EBFA;\n",
              "      box-shadow: 0px 1px 2px rgba(60, 64, 67, 0.3), 0px 1px 3px 1px rgba(60, 64, 67, 0.15);\n",
              "      fill: #174EA6;\n",
              "    }\n",
              "\n",
              "    .colab-df-buttons div {\n",
              "      margin-bottom: 4px;\n",
              "    }\n",
              "\n",
              "    [theme=dark] .colab-df-convert {\n",
              "      background-color: #3B4455;\n",
              "      fill: #D2E3FC;\n",
              "    }\n",
              "\n",
              "    [theme=dark] .colab-df-convert:hover {\n",
              "      background-color: #434B5C;\n",
              "      box-shadow: 0px 1px 3px 1px rgba(0, 0, 0, 0.15);\n",
              "      filter: drop-shadow(0px 1px 2px rgba(0, 0, 0, 0.3));\n",
              "      fill: #FFFFFF;\n",
              "    }\n",
              "  </style>\n",
              "\n",
              "    <script>\n",
              "      const buttonEl =\n",
              "        document.querySelector('#df-034373a0-60d5-414f-b3d4-54f4fb081352 button.colab-df-convert');\n",
              "      buttonEl.style.display =\n",
              "        google.colab.kernel.accessAllowed ? 'block' : 'none';\n",
              "\n",
              "      async function convertToInteractive(key) {\n",
              "        const element = document.querySelector('#df-034373a0-60d5-414f-b3d4-54f4fb081352');\n",
              "        const dataTable =\n",
              "          await google.colab.kernel.invokeFunction('convertToInteractive',\n",
              "                                                    [key], {});\n",
              "        if (!dataTable) return;\n",
              "\n",
              "        const docLinkHtml = 'Like what you see? Visit the ' +\n",
              "          '<a target=\"_blank\" href=https://colab.research.google.com/notebooks/data_table.ipynb>data table notebook</a>'\n",
              "          + ' to learn more about interactive tables.';\n",
              "        element.innerHTML = '';\n",
              "        dataTable['output_type'] = 'display_data';\n",
              "        await google.colab.output.renderOutput(dataTable, element);\n",
              "        const docLink = document.createElement('div');\n",
              "        docLink.innerHTML = docLinkHtml;\n",
              "        element.appendChild(docLink);\n",
              "      }\n",
              "    </script>\n",
              "  </div>\n",
              "\n",
              "\n",
              "<div id=\"df-bf22db18-2e55-41b4-acb7-0ef66fe343b3\">\n",
              "  <button class=\"colab-df-quickchart\" onclick=\"quickchart('df-bf22db18-2e55-41b4-acb7-0ef66fe343b3')\"\n",
              "            title=\"Suggest charts\"\n",
              "            style=\"display:none;\">\n",
              "\n",
              "<svg xmlns=\"http://www.w3.org/2000/svg\" height=\"24px\"viewBox=\"0 0 24 24\"\n",
              "     width=\"24px\">\n",
              "    <g>\n",
              "        <path d=\"M19 3H5c-1.1 0-2 .9-2 2v14c0 1.1.9 2 2 2h14c1.1 0 2-.9 2-2V5c0-1.1-.9-2-2-2zM9 17H7v-7h2v7zm4 0h-2V7h2v10zm4 0h-2v-4h2v4z\"/>\n",
              "    </g>\n",
              "</svg>\n",
              "  </button>\n",
              "\n",
              "<style>\n",
              "  .colab-df-quickchart {\n",
              "      --bg-color: #E8F0FE;\n",
              "      --fill-color: #1967D2;\n",
              "      --hover-bg-color: #E2EBFA;\n",
              "      --hover-fill-color: #174EA6;\n",
              "      --disabled-fill-color: #AAA;\n",
              "      --disabled-bg-color: #DDD;\n",
              "  }\n",
              "\n",
              "  [theme=dark] .colab-df-quickchart {\n",
              "      --bg-color: #3B4455;\n",
              "      --fill-color: #D2E3FC;\n",
              "      --hover-bg-color: #434B5C;\n",
              "      --hover-fill-color: #FFFFFF;\n",
              "      --disabled-bg-color: #3B4455;\n",
              "      --disabled-fill-color: #666;\n",
              "  }\n",
              "\n",
              "  .colab-df-quickchart {\n",
              "    background-color: var(--bg-color);\n",
              "    border: none;\n",
              "    border-radius: 50%;\n",
              "    cursor: pointer;\n",
              "    display: none;\n",
              "    fill: var(--fill-color);\n",
              "    height: 32px;\n",
              "    padding: 0;\n",
              "    width: 32px;\n",
              "  }\n",
              "\n",
              "  .colab-df-quickchart:hover {\n",
              "    background-color: var(--hover-bg-color);\n",
              "    box-shadow: 0 1px 2px rgba(60, 64, 67, 0.3), 0 1px 3px 1px rgba(60, 64, 67, 0.15);\n",
              "    fill: var(--button-hover-fill-color);\n",
              "  }\n",
              "\n",
              "  .colab-df-quickchart-complete:disabled,\n",
              "  .colab-df-quickchart-complete:disabled:hover {\n",
              "    background-color: var(--disabled-bg-color);\n",
              "    fill: var(--disabled-fill-color);\n",
              "    box-shadow: none;\n",
              "  }\n",
              "\n",
              "  .colab-df-spinner {\n",
              "    border: 2px solid var(--fill-color);\n",
              "    border-color: transparent;\n",
              "    border-bottom-color: var(--fill-color);\n",
              "    animation:\n",
              "      spin 1s steps(1) infinite;\n",
              "  }\n",
              "\n",
              "  @keyframes spin {\n",
              "    0% {\n",
              "      border-color: transparent;\n",
              "      border-bottom-color: var(--fill-color);\n",
              "      border-left-color: var(--fill-color);\n",
              "    }\n",
              "    20% {\n",
              "      border-color: transparent;\n",
              "      border-left-color: var(--fill-color);\n",
              "      border-top-color: var(--fill-color);\n",
              "    }\n",
              "    30% {\n",
              "      border-color: transparent;\n",
              "      border-left-color: var(--fill-color);\n",
              "      border-top-color: var(--fill-color);\n",
              "      border-right-color: var(--fill-color);\n",
              "    }\n",
              "    40% {\n",
              "      border-color: transparent;\n",
              "      border-right-color: var(--fill-color);\n",
              "      border-top-color: var(--fill-color);\n",
              "    }\n",
              "    60% {\n",
              "      border-color: transparent;\n",
              "      border-right-color: var(--fill-color);\n",
              "    }\n",
              "    80% {\n",
              "      border-color: transparent;\n",
              "      border-right-color: var(--fill-color);\n",
              "      border-bottom-color: var(--fill-color);\n",
              "    }\n",
              "    90% {\n",
              "      border-color: transparent;\n",
              "      border-bottom-color: var(--fill-color);\n",
              "    }\n",
              "  }\n",
              "</style>\n",
              "\n",
              "  <script>\n",
              "    async function quickchart(key) {\n",
              "      const quickchartButtonEl =\n",
              "        document.querySelector('#' + key + ' button');\n",
              "      quickchartButtonEl.disabled = true;  // To prevent multiple clicks.\n",
              "      quickchartButtonEl.classList.add('colab-df-spinner');\n",
              "      try {\n",
              "        const charts = await google.colab.kernel.invokeFunction(\n",
              "            'suggestCharts', [key], {});\n",
              "      } catch (error) {\n",
              "        console.error('Error during call to suggestCharts:', error);\n",
              "      }\n",
              "      quickchartButtonEl.classList.remove('colab-df-spinner');\n",
              "      quickchartButtonEl.classList.add('colab-df-quickchart-complete');\n",
              "    }\n",
              "    (() => {\n",
              "      let quickchartButtonEl =\n",
              "        document.querySelector('#df-bf22db18-2e55-41b4-acb7-0ef66fe343b3 button');\n",
              "      quickchartButtonEl.style.display =\n",
              "        google.colab.kernel.accessAllowed ? 'block' : 'none';\n",
              "    })();\n",
              "  </script>\n",
              "</div>\n",
              "    </div>\n",
              "  </div>\n"
            ],
            "text/plain": [
              "    {other}        {}    {α, β}    {α, γ}    {α, δ}  {α, ε, η}  {α, ε, θ}  \\\n",
              "0  0.010243  0.012793  0.024907  0.020239  0.002600   0.000083   0.000214   \n",
              "1  0.006444  0.643875  0.001265  0.003101  0.000500   0.000247   0.000362   \n",
              "2  0.775783  0.007613  0.009663  0.031277  0.015089   0.000901   0.003178   \n",
              "3  0.050799  0.604731  0.001781  0.003545  0.000341   0.000180   0.000225   \n",
              "4  0.050196  0.164757  0.003276  0.010358  0.002179   0.000520   0.000164   \n",
              "5  0.075562  0.012217  0.054331  0.087893  0.074003   0.000097   0.005741   \n",
              "6  0.005181  0.705339  0.001437  0.002984  0.000453   0.000078   0.000262   \n",
              "7  0.014664  0.012050  0.015630  0.030094  0.002750   0.000059   0.000124   \n",
              "8  0.057692  0.329282  0.002999  0.010563  0.001620   0.000828   0.000799   \n",
              "9  0.014289  0.235970  0.056080  0.092009  0.000798   0.000096   0.000263   \n",
              "\n",
              "   {α, ε, ψ}    {α, ε}    {α, η}    {α, θ}    {α, λ}    {α, μ}    {α, π}  \\\n",
              "0   0.000100  0.002928  0.003960  0.028940  0.000105  0.001513  0.000003   \n",
              "1   0.000064  0.002201  0.009944  0.001835  0.000055  0.000522  0.000003   \n",
              "2   0.001160  0.030958  0.011500  0.020295  0.000302  0.002834  0.000010   \n",
              "3   0.000139  0.009089  0.016458  0.002420  0.000075  0.000280  0.000004   \n",
              "4   0.000033  0.002131  0.329940  0.005496  0.000086  0.001608  0.000006   \n",
              "5   0.000067  0.009162  0.003890  0.015108  0.011834  0.000492  0.000007   \n",
              "6   0.000027  0.000622  0.002986  0.000894  0.000376  0.000139  0.000023   \n",
              "7   0.000013  0.001257  0.022744  0.003853  0.001133  0.020998  0.000003   \n",
              "8   0.000045  0.004523  0.152124  0.005391  0.000107  0.000997  0.000007   \n",
              "9   0.000028  0.001815  0.015280  0.003791  0.000124  0.001060  0.000005   \n",
              "\n",
              "     {α, ψ}       {α}       {λ}  \n",
              "0  0.000734  0.890616  0.000021  \n",
              "1  0.001594  0.327967  0.000022  \n",
              "2  0.018453  0.070929  0.000056  \n",
              "3  0.000199  0.309729  0.000006  \n",
              "4  0.000354  0.428886  0.000010  \n",
              "5  0.004046  0.645526  0.000025  \n",
              "6  0.001017  0.278170  0.000009  \n",
              "7  0.000487  0.874135  0.000005  \n",
              "8  0.000696  0.432296  0.000030  \n",
              "9  0.000421  0.577946  0.000025  "
            ]
          },
          "execution_count": 27,
          "metadata": {},
          "output_type": "execute_result"
        }
      ],
      "source": [
        "test_pred_proba_df.head(10)"
      ]
    },
    {
      "cell_type": "markdown",
      "metadata": {
        "id": "o5GnS2EqISlv"
      },
      "source": [
        "Cоздается DataFrame с предсказанными вероятностями для тестовой выборки, и эти данные записываются в файл \"lgbm_result.csv\""
      ]
    },
    {
      "cell_type": "code",
      "execution_count": null,
      "metadata": {
        "id": "Gdv4-O7X3ano"
      },
      "outputs": [],
      "source": [
        "sample_submission_df[sorted_classes] = test_pred_proba_df\n",
        "sample_submission_df.to_csv(\"lgbm_result.csv\", index=False)"
      ]
    },
    {
      "cell_type": "markdown",
      "metadata": {
        "id": "QEaMvPG9ETy5"
      },
      "source": [
        "# Подбор гиперпараметров"
      ]
    },
    {
      "cell_type": "code",
      "execution_count": null,
      "metadata": {
        "id": "1RJC3CEyEdTs"
      },
      "outputs": [],
      "source": [
        "import numpy as np\n",
        "import pandas as pd\n",
        "from lightgbm import LGBMClassifier\n",
        "from sklearn.metrics import roc_auc_score\n",
        "from sklearn.model_selection import train_test_split, RandomizedSearchCV\n",
        "import warnings\n",
        "warnings.filterwarnings('ignore')"
      ]
    },
    {
      "cell_type": "code",
      "execution_count": null,
      "metadata": {
        "id": "DNpzT3aFESad"
      },
      "outputs": [],
      "source": [
        "param_grid = {\n",
        "    'learning_rate': [0.01, 0.05, 0.1],\n",
        "    'n_estimators': [100, 200, 300, 500],\n",
        "    'max_depth': [5, 10, 15],\n",
        "    'lambda_l2': [1, 2, 3, 5],\n",
        "    'num_leaves': [31, 50, 70, 100],\n",
        "    'min_child_samples': [20, 30, 40],\n",
        "    'subsample': [0.8, 0.9, 1.0]\n",
        "}"
      ]
    },
    {
      "cell_type": "code",
      "execution_count": null,
      "metadata": {
        "colab": {
          "background_save": true,
          "base_uri": "https://localhost:8080/"
        },
        "id": "Rs2uyRj2EZtQ",
        "outputId": "70bf6e1a-2518-4864-947b-340c4f4d7847"
      },
      "outputs": [
        {
          "name": "stdout",
          "output_type": "stream",
          "text": [
            "Fitting 3 folds for each of 50 candidates, totalling 150 fits\n"
          ]
        }
      ],
      "source": [
        "# Создание объекта модели\n",
        "model = LGBMClassifier(verbosity=-1, random_state=42, n_jobs=-1)\n",
        "\n",
        "# Создание объекта RandomizedSearchCV\n",
        "random_search = RandomizedSearchCV(model, param_distributions=param_grid, n_iter=50, scoring='roc_auc', cv=3, verbose=2, random_state=42, n_jobs=-1)\n",
        "\n",
        "# Обучение модели\n",
        "random_search.fit(x_train, y_train)\n",
        "\n",
        "# Просмотр лучших параметров и оценки качества модели\n",
        "print(\"Best parameters found: \", random_search.best_params_)\n",
        "print(\"Best ROC AUC score found: \", random_search.best_score_)"
      ]
    },
    {
      "cell_type": "code",
      "execution_count": null,
      "metadata": {
        "id": "JEdKpMbNEikG"
      },
      "outputs": [],
      "source": [
        "best_params = random_search.best_params_\n",
        "\n",
        "model_best = LGBMClassifier(**best_params, verbosity=-1, random_state=42, n_jobs=-1)\n",
        "model_best.fit(x_train, y_train)\n",
        "\n",
        "# Проверка на валидационных данных\n",
        "y_pred_proba = model_best.predict_proba(x_val)\n",
        "print(\"Метрика на валидации: \", weighted_roc_auc(y_val, y_pred_proba, model_best.classes_, weights_dict))"
      ]
    }
  ],
  "metadata": {
    "colab": {
      "provenance": []
    },
    "kernelspec": {
      "display_name": "Python 3",
      "name": "python3"
    },
    "language_info": {
      "name": "python"
    }
  },
  "nbformat": 4,
  "nbformat_minor": 0
}
